{
 "cells": [
  {
   "cell_type": "code",
   "execution_count": 1,
   "metadata": {},
   "outputs": [],
   "source": [
    "import os \n",
    "from pathlib import Path"
   ]
  },
  {
   "cell_type": "code",
   "execution_count": 2,
   "metadata": {},
   "outputs": [
    {
     "data": {
      "text/plain": [
       "'/home/priyanshu1303d/Projects/DeepQA_PyTorch/research'"
      ]
     },
     "execution_count": 2,
     "metadata": {},
     "output_type": "execute_result"
    }
   ],
   "source": [
    "%pwd"
   ]
  },
  {
   "cell_type": "code",
   "execution_count": 3,
   "metadata": {},
   "outputs": [],
   "source": [
    "os.chdir(\"../\")"
   ]
  },
  {
   "cell_type": "code",
   "execution_count": 5,
   "metadata": {},
   "outputs": [
    {
     "data": {
      "text/plain": [
       "'/home/priyanshu1303d/Projects/DeepQA_PyTorch'"
      ]
     },
     "execution_count": 5,
     "metadata": {},
     "output_type": "execute_result"
    }
   ],
   "source": [
    "%pwd"
   ]
  },
  {
   "cell_type": "code",
   "execution_count": 6,
   "metadata": {},
   "outputs": [],
   "source": [
    "from dataclasses import dataclass"
   ]
  },
  {
   "cell_type": "code",
   "execution_count": 19,
   "metadata": {},
   "outputs": [],
   "source": [
    "@dataclass(frozen=True)\n",
    "class ModelPredictionConfig:\n",
    "    saved_model_path: Path\n",
    "    vocab_file_path: Path\n"
   ]
  },
  {
   "cell_type": "code",
   "execution_count": 11,
   "metadata": {},
   "outputs": [],
   "source": [
    "from DeepQA.constants import *\n",
    "from DeepQA.utils.common import *"
   ]
  },
  {
   "cell_type": "code",
   "execution_count": 20,
   "metadata": {},
   "outputs": [],
   "source": [
    "class ConfigurationManager:\n",
    "    def __init__(self , config_filepath = CONFIG_FILE_PATH , params_filepath = PARAMS_FILE_PATH):\n",
    "        self.config = read_yaml(config_filepath)\n",
    "        self.params = read_yaml(params_filepath)\n",
    "\n",
    "    def get_model_prediction_config(self) -> ModelPredictionConfig:\n",
    "        config = self.config.model_prediction\n",
    "\n",
    "        model_prediction_config = ModelPredictionConfig(\n",
    "            saved_model_path= config.saved_model_path,\n",
    "            vocab_file_path = config.vocab_file_path\n",
    "        )\n",
    "        return model_prediction_config"
   ]
  },
  {
   "cell_type": "code",
   "execution_count": 21,
   "metadata": {},
   "outputs": [],
   "source": [
    "import torch\n",
    "import json\n",
    "import argparse\n",
    "from pathlib import Path\n",
    "from DeepQA.utils.common import read_yaml\n",
    "import torch.nn as nn"
   ]
  },
  {
   "cell_type": "code",
   "execution_count": 22,
   "metadata": {},
   "outputs": [],
   "source": [
    "class RNNModel(nn.Module):\n",
    "    def __init__(self, vocab_size, embedding_dim=50, hidden_size=64):\n",
    "        super().__init__()\n",
    "        self.embedding = nn.Embedding(vocab_size, embedding_dim)\n",
    "        self.rnn = nn.RNN(embedding_dim, hidden_size, batch_first=True)\n",
    "        self.fc = nn.Linear(hidden_size, vocab_size)\n",
    "    \n",
    "    def forward(self, x):\n",
    "        x = self.embedding(x) \n",
    "\n",
    "        # 🚨 Fix: Remove the extra dimension if needed\n",
    "        if x.dim() == 4:  \n",
    "            x = x.squeeze(1)  # Remove the unnecessary 1-dim (batch_size, 1, seq_len, embedding_dim) → (batch_size, seq_len, embedding_dim)\n",
    "        \n",
    "        output, hidden = self.rnn(x)  # Pass through RNN\n",
    "        output = self.fc(output[:, -1, :])  # Take the last output for classification\n",
    "\n",
    "        return output\n",
    "\n",
    "class Predictor:\n",
    "    def __init__(self, config: ModelPredictionConfig):\n",
    "        \"\"\"Initialize predictor with model and vocab.\"\"\"\n",
    "        self.config = config\n",
    "        self.device = torch.device(\"cuda\" if torch.cuda.is_available() else \"cpu\")\n",
    "\n",
    "        # Load vocabulary\n",
    "        with open(self.config.vocab_file_path, \"r\") as f:\n",
    "            self.vocab = json.load(f)\n",
    "        \n",
    "        self.vocab_size = len(self.vocab)\n",
    "\n",
    "        # Load model\n",
    "        self.model = RNNModel(vocab_size=self.vocab_size).to(self.device)\n",
    "        self.model.load_state_dict(torch.load(self.config.saved_model_path, map_location=self.device))\n",
    "        self.model.eval()\n",
    "\n",
    "        # Reverse vocab for decoding predictions\n",
    "        self.index_to_word = {idx: word for word, idx in self.vocab.items()}\n",
    "\n",
    "    def preprocess_text(self, text: str):\n",
    "        \"\"\"Convert input text into numericalized tensor.\"\"\"\n",
    "        numerical_input = [self.vocab.get(word, self.vocab.get(\"<UNK>\", 0)) for word in text.split()]\n",
    "        return torch.tensor(numerical_input, dtype=torch.long).unsqueeze(0).to(self.device)\n",
    "\n",
    "    def predict(self, text: str):\n",
    "        \"\"\"Generate prediction from input text.\"\"\"\n",
    "        input_tensor = self.preprocess_text(text)\n",
    "\n",
    "        with torch.no_grad():\n",
    "            output = self.model(input_tensor)\n",
    "            predicted_index = torch.argmax(output, dim=1).item()\n",
    "\n",
    "        predicted_word = self.index_to_word.get(predicted_index, \"<UNK>\")\n",
    "        return predicted_word"
   ]
  },
  {
   "cell_type": "code",
   "execution_count": 37,
   "metadata": {},
   "outputs": [
    {
     "name": "stdout",
     "output_type": "stream",
     "text": [
      "[2025-04-03 21:24:45,052 : INFO : common  : yaml file config/config.yaml was read succesfully]\n",
      "[2025-04-03 21:24:45,054 : INFO : common  : yaml file params.yaml was read succesfully]\n",
      "whale\n"
     ]
    }
   ],
   "source": [
    "try:\n",
    "    config = ConfigurationManager()\n",
    "    get_model_prediction_config  = config.get_model_prediction_config()\n",
    "    model_prediction = Predictor(get_model_prediction_config)\n",
    "    answer = model_prediction.predict(\"What is the largest mammal on Earth?\")\n",
    "    print(answer)\n",
    "except Exception as e:\n",
    "    raise e"
   ]
  },
  {
   "cell_type": "code",
   "execution_count": null,
   "metadata": {},
   "outputs": [],
   "source": []
  },
  {
   "cell_type": "code",
   "execution_count": null,
   "metadata": {},
   "outputs": [],
   "source": []
  },
  {
   "cell_type": "code",
   "execution_count": null,
   "metadata": {},
   "outputs": [],
   "source": []
  },
  {
   "cell_type": "code",
   "execution_count": null,
   "metadata": {},
   "outputs": [],
   "source": []
  },
  {
   "cell_type": "code",
   "execution_count": null,
   "metadata": {},
   "outputs": [],
   "source": []
  }
 ],
 "metadata": {
  "kernelspec": {
   "display_name": "DeepQA",
   "language": "python",
   "name": "python3"
  },
  "language_info": {
   "codemirror_mode": {
    "name": "ipython",
    "version": 3
   },
   "file_extension": ".py",
   "mimetype": "text/x-python",
   "name": "python",
   "nbconvert_exporter": "python",
   "pygments_lexer": "ipython3",
   "version": "3.9.21"
  }
 },
 "nbformat": 4,
 "nbformat_minor": 2
}
